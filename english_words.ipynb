{
 "cells": [
  {
   "cell_type": "markdown",
   "id": "f525714b-0dbc-4734-83b3-c86de185aa48",
   "metadata": {},
   "source": [
    "## Import the libraries"
   ]
  },
  {
   "cell_type": "code",
   "execution_count": 1,
   "id": "4cc8b18c-bbcb-4b04-95e8-a13c992caafb",
   "metadata": {},
   "outputs": [],
   "source": [
    "from datetime import date\n",
    "import json\n",
    "import ast"
   ]
  },
  {
   "cell_type": "markdown",
   "id": "bb20a3ba-3adc-4d23-8193-22e2b1bcfff0",
   "metadata": {},
   "source": [
    "## Utility functions"
   ]
  },
  {
   "cell_type": "code",
   "execution_count": 6,
   "id": "cb1d17ac-af16-4cb6-b499-49b80954bef9",
   "metadata": {},
   "outputs": [],
   "source": [
    "def hamming_distance_string(str_1, str_2, add_score = True):\n",
    "    \n",
    "    distance = 0 \n",
    "    score = 0\n",
    "    \n",
    "    for char_1, char_2 in zip(str_1, str_2):\n",
    "        \n",
    "        if char_1 != char_2: \n",
    "            distance += 1\n",
    "        else: \n",
    "            score += 1 \n",
    "            \n",
    "    if add_score: \n",
    "        return distance, score \n",
    "    else: \n",
    "        return distance"
   ]
  },
  {
   "cell_type": "markdown",
   "id": "d4a16713-3edd-40cb-9fa7-e2bf805044c7",
   "metadata": {},
   "source": [
    "## Import the dict from the `.txt` file"
   ]
  },
  {
   "cell_type": "code",
   "execution_count": 7,
   "id": "92fe66bd-2f9a-40ea-b44d-58df7c114b99",
   "metadata": {},
   "outputs": [
    {
     "name": "stdout",
     "output_type": "stream",
     "text": [
      "the dictionary size amounts to 62\n"
     ]
    }
   ],
   "source": [
    "try:\n",
    "    \n",
    "    with open('english_words.txt', 'r') as f:\n",
    "        contents = f.read()\n",
    "        dict_of_words = ast.literal_eval(contents)\n",
    "        print(\"the dictionary size amounts to {}\".format(len(dict_of_words)))\n",
    "        \n",
    "except FileNotFoundError:\n",
    "    \n",
    "    print(\"The file does not exist, creating it in the local folder\")\n",
    "    with open('english_words.txt', 'w'): \n",
    "        dict_of_words = dict()"
   ]
  },
  {
   "cell_type": "markdown",
   "id": "342dc327-93ae-4ca0-bf01-7e430f964a0d",
   "metadata": {},
   "source": [
    "## Add new words"
   ]
  },
  {
   "cell_type": "code",
   "execution_count": 22,
   "id": "4b8ed2d2-86f8-45cc-aa32-b7d3eebae58a",
   "metadata": {},
   "outputs": [
    {
     "name": "stdin",
     "output_type": "stream",
     "text": [
      "Insert the new english word:  assignment\n",
      "Insert the correspondence in italian:  assegnazione, compito\n",
      "Digit y/n to add new word:  n\n"
     ]
    }
   ],
   "source": [
    "break_word = \"y\"\n",
    "\n",
    "while break_word == \"y\": \n",
    "    \n",
    "    english_word = input(\"Insert the new english word: \")\n",
    "    \n",
    "    if english_word.lower() not in dict_of_words.keys():\n",
    "        \n",
    "        translation = input(\"Insert the correspondence in italian: \")\n",
    "        dict_of_words[english_word.lower()] = translation.lower()\n",
    "        del english_word, translation   \n",
    "        \n",
    "    else:\n",
    "        \n",
    "        update = input(\"Already existing word, do you want to add a synonymous or change the translation of it? add/change/no\")\n",
    "        \n",
    "        if update == \"add\":\n",
    "            \n",
    "            translation = input(\"Insert the new correspondence in italian: \")\n",
    "            dict_of_words[english_word.lower()] += \", \" + translation.lower()\n",
    "            del english_word, translation \n",
    "            \n",
    "        elif update == \"change\":\n",
    "            \n",
    "            translation = input(\"Insert the new correspondence in italian: \")\n",
    "            dict_of_words[english_word.lower()] = translation.lower()\n",
    "            del english_word, translation   \n",
    "            \n",
    "        elif update == \"no\":\n",
    "            \n",
    "            pass \n",
    "        \n",
    "        else:\n",
    "            \n",
    "            print(\"Wrong reply, use the word: \\n -'add' to add a synonymous \\n -'change' to change completely the meaning of a word \\n -'no' to jump this passage\")\n",
    "        \n",
    "    break_word = input(\"Digit y/n to add new word: \")\n",
    "    \n",
    "    if break_word.lower() not in {\"y\",\"n\"}:\n",
    "        print(\"Unacceptable letter, program stops\")"
   ]
  },
  {
   "cell_type": "markdown",
   "id": "3e7044aa-09f6-4e06-8ff0-03ad4b4d6076",
   "metadata": {},
   "source": [
    "## Delete words"
   ]
  },
  {
   "cell_type": "code",
   "execution_count": 14,
   "id": "b7a2500b-5d53-48be-a5b2-6cce57aa3ff9",
   "metadata": {},
   "outputs": [
    {
     "name": "stdin",
     "output_type": "stream",
     "text": [
      "Insert the word that you want to delete nofrills\n",
      "Here we found the 'nofrills' notion among the available ones, proceed? y/n y\n"
     ]
    }
   ],
   "source": [
    "word_to_delete = input(\"Insert the word that you want to delete\")\n",
    "\n",
    "if word_to_delete in dict_of_words.keys():\n",
    "    \n",
    "    confirmation = input(\"'{}' word found among the available ones, proceed? y/n\".format(word_to_delete))\n",
    "    if confirmation.lower() == \"y\": \n",
    "        del dict_of_words[word_to_delete]\n",
    "    else: \n",
    "        print(\"Re-compile the cell to execute another deleting request\") \n",
    "else:\n",
    "    \n",
    "    print(\"Inserted notion not available.\") \n",
    "    most_sim_words = [(word, hamming_distance_string(word, word_to_delete)[1]) for word in dict_of_words.keys()]\n",
    "    most_sim_words = sorted(most_sim_words, key = lambda x : x[1], reverse = True)\n",
    "    print(\"Here the most 5 similar words are {}\".format(most_sim_words[:5]))"
   ]
  },
  {
   "cell_type": "markdown",
   "id": "3857032e-441a-45df-80f7-84d242a28a27",
   "metadata": {},
   "source": [
    "## Save the file"
   ]
  },
  {
   "cell_type": "code",
   "execution_count": 23,
   "id": "24581cc6-0557-4d88-8500-b5b44688f636",
   "metadata": {},
   "outputs": [],
   "source": [
    "# sorting the file\n",
    "dict_of_words = {k : v for k, v in sorted(dict_of_words.items(), key = lambda x : x[0], reverse = False)}\n",
    "\n",
    "try:\n",
    "    \n",
    "    with open('english_words.txt', 'w') as f:\n",
    "         f.write(json.dumps(dict_of_words))\n",
    "            \n",
    "except FileNotFoundError:\n",
    "    \n",
    "    print(\"The directory does not exist\")"
   ]
  },
  {
   "cell_type": "markdown",
   "id": "7f035012-5437-45c3-8141-d622bfcb8bea",
   "metadata": {},
   "source": [
    "---\n",
    "---"
   ]
  },
  {
   "cell_type": "markdown",
   "id": "44220e5a-2bac-456e-8c05-9dc3419a1f41",
   "metadata": {},
   "source": [
    "## Printing the content of the dict in case of a missing `.txt`"
   ]
  },
  {
   "cell_type": "code",
   "execution_count": 24,
   "id": "39e2d1c1-7de6-48d5-b4fd-83541dd26c2c",
   "metadata": {
    "tags": []
   },
   "outputs": [
    {
     "name": "stdout",
     "output_type": "stream",
     "text": [
      "'accomodated':'accolto, ospitato'\n",
      "'act like':'fungere'\n",
      "'albeit':'sebbene'\n",
      "'ascertain':'accertare'\n",
      "'assignment':'assegnazione, compito'\n",
      "'at large':'in generale'\n",
      "'attached':'allegato, attaccato'\n",
      "'backbone':'spina dorsale o connessione ad altà velocità e capacità '\n",
      "'buffer':'memoria tampone'\n",
      "'clerk':'addetto'\n",
      "'clumped':'ammassati'\n",
      "'commitment':'impegno'\n",
      "'conceivably':'plausibilmente'\n",
      "'concern':'interesse'\n",
      "'consistent':'coerente'\n",
      "'current':'attuale'\n",
      "'damp':'estinguere'\n",
      "'end system':'terminale'\n",
      "'facilities':'strutture'\n",
      "'feasibility':'fattibilità'\n",
      "'fecth':'recuperare'\n",
      "'hallmark':'segno distintivo'\n",
      "'idle':'inattivo, inutile'\n",
      "'intended':'destinato'\n",
      "'intermediary':'intermediario'\n",
      "'leak':'perdita'\n",
      "'lenient':'lascivo'\n",
      "'loans':'prestiti in sospeso'\n",
      "'mesh':'maglia'\n",
      "'mint':'zecca'\n",
      "'nevertheless':'tuttavia'\n",
      "'nofrill':'senza fronzoli'\n",
      "'outbound':'in uscita'\n",
      "'outgoing':'in uscita'\n",
      "'painstackingly':'scrupolosamente'\n",
      "'parse':'analizzare'\n",
      "'proper':'appropriato, corretto'\n",
      "'pulses':'impulsi'\n",
      "'queries':'richieste, domande'\n",
      "'regardless':'senza riguardo'\n",
      "'repertoire':'lista o insieme di ...'\n",
      "'report':'riportare, registrare'\n",
      "'route':'instradare'\n",
      "'settle':'accontentarsi'\n",
      "'sink':'pozzo'\n",
      "'solely':'solamente'\n",
      "'stand-alone':'autonomo, indipendente'\n",
      "'streamlined':'snella'\n",
      "'stringent':'rigoroso'\n",
      "'submit':'inviare'\n",
      "'switching':'smistamento, commutazione'\n",
      "'tailored':'su misura di...'\n",
      "'throttle':'acceleratore, strozzare'\n",
      "'throughput':'portata'\n",
      "'throughtout':'per tutto il...'\n",
      "'tier':'livello'\n",
      "'tinker':'armeggiare'\n",
      "'to bode':'permettere'\n",
      "'to the extend':'nella misura di...'\n",
      "'toddler':'neonato'\n",
      "'toll booth':'casello autostradale'\n",
      "'unanimous':'unanime'\n",
      "'unfolds':'si sviluppa'\n",
      "'up to you':'vedi te'\n",
      "'viable':'praticabile'\n",
      "'weak spot':'punto debole'\n"
     ]
    }
   ],
   "source": [
    "for k, v in dict_of_words.items():\n",
    "    print(\"'{}':'{}'\".format(k,v))"
   ]
  },
  {
   "cell_type": "code",
   "execution_count": null,
   "id": "28f7a5a5-952b-44a4-a7f8-98e87755de16",
   "metadata": {},
   "outputs": [],
   "source": []
  }
 ],
 "metadata": {
  "kernelspec": {
   "display_name": "Python 3",
   "language": "python",
   "name": "python3"
  },
  "language_info": {
   "codemirror_mode": {
    "name": "ipython",
    "version": 3
   },
   "file_extension": ".py",
   "mimetype": "text/x-python",
   "name": "python",
   "nbconvert_exporter": "python",
   "pygments_lexer": "ipython3",
   "version": "3.9.2"
  }
 },
 "nbformat": 4,
 "nbformat_minor": 5
}
